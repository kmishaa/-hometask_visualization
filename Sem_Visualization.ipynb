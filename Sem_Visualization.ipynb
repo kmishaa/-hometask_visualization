{
 "cells": [
  {
   "cell_type": "markdown",
   "id": "63da7a8f",
   "metadata": {},
   "source": [
    "## Визуализация в matplotlib и seaborn"
   ]
  },
  {
   "cell_type": "markdown",
   "id": "c8404274",
   "metadata": {},
   "source": [
    "Целью сегодняшнего семинара является знакомство с библиотеками по визуализации: matplotlib и seaborn. Вы научитесь строить простые графики\n",
    "\n",
    "Matplotlib: \n",
    "- линейный график, \n",
    "- столбчатая диаграмма, \n",
    "- диаграмма рассеяния\n",
    "\n",
    "Seaborn:\n",
    "- box plot,\n",
    "- bar plot,\n",
    "- кореляционная heat map"
   ]
  },
  {
   "cell_type": "markdown",
   "id": "ba60387a",
   "metadata": {},
   "source": [
    "### Matplotlib"
   ]
  },
  {
   "cell_type": "markdown",
   "id": "912f532c",
   "metadata": {},
   "source": [
    "Будем работать с датафремом инстаграм РБК Медиа"
   ]
  },
  {
   "cell_type": "code",
   "execution_count": 2,
   "id": "e9c894c5",
   "metadata": {},
   "outputs": [],
   "source": [
    "import pandas as pd\n",
    "data = pd.read_csv('rbc_df.csv')"
   ]
  },
  {
   "cell_type": "code",
   "execution_count": 3,
   "id": "c4630642",
   "metadata": {},
   "outputs": [
    {
     "data": {
      "text/html": [
       "<div>\n",
       "<style scoped>\n",
       "    .dataframe tbody tr th:only-of-type {\n",
       "        vertical-align: middle;\n",
       "    }\n",
       "\n",
       "    .dataframe tbody tr th {\n",
       "        vertical-align: top;\n",
       "    }\n",
       "\n",
       "    .dataframe thead th {\n",
       "        text-align: right;\n",
       "    }\n",
       "</style>\n",
       "<table border=\"1\" class=\"dataframe\">\n",
       "  <thead>\n",
       "    <tr style=\"text-align: right;\">\n",
       "      <th></th>\n",
       "      <th>date</th>\n",
       "      <th>comments</th>\n",
       "      <th>likes</th>\n",
       "      <th>text</th>\n",
       "      <th>url</th>\n",
       "    </tr>\n",
       "  </thead>\n",
       "  <tbody>\n",
       "    <tr>\n",
       "      <th>0</th>\n",
       "      <td>10/11/2021 16:11:33</td>\n",
       "      <td>25</td>\n",
       "      <td>1812</td>\n",
       "      <td>Переговоры — это столкновение двух и более про...</td>\n",
       "      <td>https://www.instagram.com/p/CWGgCllIUjK/</td>\n",
       "    </tr>\n",
       "    <tr>\n",
       "      <th>1</th>\n",
       "      <td>10/11/2021 11:10:42</td>\n",
       "      <td>327</td>\n",
       "      <td>2338</td>\n",
       "      <td>У белорусско-польской границы мигранты, в боль...</td>\n",
       "      <td>https://www.instagram.com/p/CWF9nA6opvy/</td>\n",
       "    </tr>\n",
       "    <tr>\n",
       "      <th>2</th>\n",
       "      <td>09/11/2021 16:52:42</td>\n",
       "      <td>83</td>\n",
       "      <td>4252</td>\n",
       "      <td>Большинство из нас слышали про необходимость п...</td>\n",
       "      <td>https://www.instagram.com/p/CWD_9EHIf_K/</td>\n",
       "    </tr>\n",
       "    <tr>\n",
       "      <th>3</th>\n",
       "      <td>09/11/2021 13:29:03</td>\n",
       "      <td>27</td>\n",
       "      <td>1500</td>\n",
       "      <td>Покупка мужского костюма — интересный процесс,...</td>\n",
       "      <td>https://www.instagram.com/p/CWDophIN18s/</td>\n",
       "    </tr>\n",
       "    <tr>\n",
       "      <th>4</th>\n",
       "      <td>08/11/2021 15:45:42</td>\n",
       "      <td>44</td>\n",
       "      <td>2214</td>\n",
       "      <td>Предприниматели грядущих десятилетий будут отл...</td>\n",
       "      <td>https://www.instagram.com/p/CWBTfdnISbq/</td>\n",
       "    </tr>\n",
       "  </tbody>\n",
       "</table>\n",
       "</div>"
      ],
      "text/plain": [
       "                  date  comments  likes  \\\n",
       "0  10/11/2021 16:11:33        25   1812   \n",
       "1  10/11/2021 11:10:42       327   2338   \n",
       "2  09/11/2021 16:52:42        83   4252   \n",
       "3  09/11/2021 13:29:03        27   1500   \n",
       "4  08/11/2021 15:45:42        44   2214   \n",
       "\n",
       "                                                text  \\\n",
       "0  Переговоры — это столкновение двух и более про...   \n",
       "1  У белорусско-польской границы мигранты, в боль...   \n",
       "2  Большинство из нас слышали про необходимость п...   \n",
       "3  Покупка мужского костюма — интересный процесс,...   \n",
       "4  Предприниматели грядущих десятилетий будут отл...   \n",
       "\n",
       "                                        url  \n",
       "0  https://www.instagram.com/p/CWGgCllIUjK/  \n",
       "1  https://www.instagram.com/p/CWF9nA6opvy/  \n",
       "2  https://www.instagram.com/p/CWD_9EHIf_K/  \n",
       "3  https://www.instagram.com/p/CWDophIN18s/  \n",
       "4  https://www.instagram.com/p/CWBTfdnISbq/  "
      ]
     },
     "execution_count": 3,
     "metadata": {},
     "output_type": "execute_result"
    }
   ],
   "source": [
    "data.head()"
   ]
  },
  {
   "cell_type": "markdown",
   "id": "a30513ed",
   "metadata": {},
   "source": [
    "Импорт бибилиотеки Matplotlib:"
   ]
  },
  {
   "cell_type": "code",
   "execution_count": 4,
   "id": "894b4f9c",
   "metadata": {},
   "outputs": [],
   "source": [
    "import matplotlib.pyplot as plt "
   ]
  },
  {
   "cell_type": "markdown",
   "id": "3d129725",
   "metadata": {},
   "source": [
    "Давайте для начала посмотрим как выглядит объект, который создает matplotlib И разберемся, как строить в нем графики. Первый вариант создания графика - plt.plot(), которому мы просто можем передать два аргумента - что положить на ось x, а что на y. Если у вас переменные в числовом формате, то без проблем получите линейный график (line plot)"
   ]
  },
  {
   "cell_type": "code",
   "execution_count": 5,
   "id": "a4af7d8e",
   "metadata": {},
   "outputs": [
    {
     "data": {
      "text/plain": [
       "[<matplotlib.lines.Line2D at 0x20e079b71f0>]"
      ]
     },
     "execution_count": 5,
     "metadata": {},
     "output_type": "execute_result"
    },
    {
     "data": {
      "image/png": "[encoded data removed]",
      "text/plain": [
       "<Figure size 432x288 with 1 Axes>"
      ]
     },
     "metadata": {
      "needs_background": "light"
     },
     "output_type": "display_data"
    }
   ],
   "source": [
    "plt.plot(data.likes)"
   ]
  },
  {
   "cell_type": "markdown",
   "id": "812e8439",
   "metadata": {},
   "source": [
    "График представляет собой количество лайков в зависимости от наблюдения от 0 до 200"
   ]
  },
  {
   "cell_type": "markdown",
   "id": "0923776a",
   "metadata": {},
   "source": [
    "Давайте посмотрим количество лайков в зависимости от месяца"
   ]
  },
  {
   "cell_type": "code",
   "execution_count": 6,
   "id": "9490c378",
   "metadata": {},
   "outputs": [],
   "source": [
    "data['month']=data.date.str[3:5]"
   ]
  },
  {
   "cell_type": "code",
   "execution_count": 8,
   "id": "0884e9e8",
   "metadata": {},
   "outputs": [
    {
     "data": {
      "text/html": [
       "<div>\n",
       "<style scoped>\n",
       "    .dataframe tbody tr th:only-of-type {\n",
       "        vertical-align: middle;\n",
       "    }\n",
       "\n",
       "    .dataframe tbody tr th {\n",
       "        vertical-align: top;\n",
       "    }\n",
       "\n",
       "    .dataframe thead th {\n",
       "        text-align: right;\n",
       "    }\n",
       "</style>\n",
       "<table border=\"1\" class=\"dataframe\">\n",
       "  <thead>\n",
       "    <tr style=\"text-align: right;\">\n",
       "      <th></th>\n",
       "      <th>date</th>\n",
       "      <th>comments</th>\n",
       "      <th>likes</th>\n",
       "      <th>text</th>\n",
       "      <th>url</th>\n",
       "      <th>month</th>\n",
       "    </tr>\n",
       "  </thead>\n",
       "  <tbody>\n",
       "    <tr>\n",
       "      <th>0</th>\n",
       "      <td>10/11/2021 16:11:33</td>\n",
       "      <td>25</td>\n",
       "      <td>1812</td>\n",
       "      <td>Переговоры — это столкновение двух и более про...</td>\n",
       "      <td>https://www.instagram.com/p/CWGgCllIUjK/</td>\n",
       "      <td>11</td>\n",
       "    </tr>\n",
       "    <tr>\n",
       "      <th>1</th>\n",
       "      <td>10/11/2021 11:10:42</td>\n",
       "      <td>327</td>\n",
       "      <td>2338</td>\n",
       "      <td>У белорусско-польской границы мигранты, в боль...</td>\n",
       "      <td>https://www.instagram.com/p/CWF9nA6opvy/</td>\n",
       "      <td>11</td>\n",
       "    </tr>\n",
       "    <tr>\n",
       "      <th>2</th>\n",
       "      <td>09/11/2021 16:52:42</td>\n",
       "      <td>83</td>\n",
       "      <td>4252</td>\n",
       "      <td>Большинство из нас слышали про необходимость п...</td>\n",
       "      <td>https://www.instagram.com/p/CWD_9EHIf_K/</td>\n",
       "      <td>11</td>\n",
       "    </tr>\n",
       "    <tr>\n",
       "      <th>3</th>\n",
       "      <td>09/11/2021 13:29:03</td>\n",
       "      <td>27</td>\n",
       "      <td>1500</td>\n",
       "      <td>Покупка мужского костюма — интересный процесс,...</td>\n",
       "      <td>https://www.instagram.com/p/CWDophIN18s/</td>\n",
       "      <td>11</td>\n",
       "    </tr>\n",
       "    <tr>\n",
       "      <th>4</th>\n",
       "      <td>08/11/2021 15:45:42</td>\n",
       "      <td>44</td>\n",
       "      <td>2214</td>\n",
       "      <td>Предприниматели грядущих десятилетий будут отл...</td>\n",
       "      <td>https://www.instagram.com/p/CWBTfdnISbq/</td>\n",
       "      <td>11</td>\n",
       "    </tr>\n",
       "    <tr>\n",
       "      <th>...</th>\n",
       "      <td>...</td>\n",
       "      <td>...</td>\n",
       "      <td>...</td>\n",
       "      <td>...</td>\n",
       "      <td>...</td>\n",
       "      <td>...</td>\n",
       "    </tr>\n",
       "    <tr>\n",
       "      <th>2706</th>\n",
       "      <td>21/03/2016 14:14:22</td>\n",
       "      <td>0</td>\n",
       "      <td>6</td>\n",
       "      <td>Строительство космодрома Восточный. \\n\\nФото: ...</td>\n",
       "      <td>https://www.instagram.com/p/BDN9F0TFF9k/</td>\n",
       "      <td>03</td>\n",
       "    </tr>\n",
       "    <tr>\n",
       "      <th>2707</th>\n",
       "      <td>21/03/2016 14:13:27</td>\n",
       "      <td>0</td>\n",
       "      <td>21</td>\n",
       "      <td>Отдыхающие на набержной Ялты. \\n\\nФото: Катери...</td>\n",
       "      <td>https://www.instagram.com/p/BDN8_EPlF9S/</td>\n",
       "      <td>03</td>\n",
       "    </tr>\n",
       "    <tr>\n",
       "      <th>2708</th>\n",
       "      <td>21/03/2016 14:12:37</td>\n",
       "      <td>2</td>\n",
       "      <td>16</td>\n",
       "      <td>Уничтожение санкционных продуктов, Подмосковье...</td>\n",
       "      <td>https://www.instagram.com/p/BDN84-lFF9C/</td>\n",
       "      <td>03</td>\n",
       "    </tr>\n",
       "    <tr>\n",
       "      <th>2709</th>\n",
       "      <td>21/03/2016 13:58:48</td>\n",
       "      <td>0</td>\n",
       "      <td>5</td>\n",
       "      <td>Лечебно-реабилитационный центр для пожилых люд...</td>\n",
       "      <td>https://www.instagram.com/p/BDN7TsklF47/</td>\n",
       "      <td>03</td>\n",
       "    </tr>\n",
       "    <tr>\n",
       "      <th>2710</th>\n",
       "      <td>21/03/2016 13:19:41</td>\n",
       "      <td>0</td>\n",
       "      <td>22</td>\n",
       "      <td>Портрет президента Американской торговой палат...</td>\n",
       "      <td>https://www.instagram.com/p/BDN21QRFF_D/</td>\n",
       "      <td>03</td>\n",
       "    </tr>\n",
       "  </tbody>\n",
       "</table>\n",
       "<p>2711 rows × 6 columns</p>\n",
       "</div>"
      ],
      "text/plain": [
       "                     date  comments  likes  \\\n",
       "0     10/11/2021 16:11:33        25   1812   \n",
       "1     10/11/2021 11:10:42       327   2338   \n",
       "2     09/11/2021 16:52:42        83   4252   \n",
       "3     09/11/2021 13:29:03        27   1500   \n",
       "4     08/11/2021 15:45:42        44   2214   \n",
       "...                   ...       ...    ...   \n",
       "2706  21/03/2016 14:14:22         0      6   \n",
       "2707  21/03/2016 14:13:27         0     21   \n",
       "2708  21/03/2016 14:12:37         2     16   \n",
       "2709  21/03/2016 13:58:48         0      5   \n",
       "2710  21/03/2016 13:19:41         0     22   \n",
       "\n",
       "                                                   text  \\\n",
       "0     Переговоры — это столкновение двух и более про...   \n",
       "1     У белорусско-польской границы мигранты, в боль...   \n",
       "2     Большинство из нас слышали про необходимость п...   \n",
       "3     Покупка мужского костюма — интересный процесс,...   \n",
       "4     Предприниматели грядущих десятилетий будут отл...   \n",
       "...                                                 ...   \n",
       "2706  Строительство космодрома Восточный. \\n\\nФото: ...   \n",
       "2707  Отдыхающие на набержной Ялты. \\n\\nФото: Катери...   \n",
       "2708  Уничтожение санкционных продуктов, Подмосковье...   \n",
       "2709  Лечебно-реабилитационный центр для пожилых люд...   \n",
       "2710  Портрет президента Американской торговой палат...   \n",
       "\n",
       "                                           url month  \n",
       "0     https://www.instagram.com/p/CWGgCllIUjK/    11  \n",
       "1     https://www.instagram.com/p/CWF9nA6opvy/    11  \n",
       "2     https://www.instagram.com/p/CWD_9EHIf_K/    11  \n",
       "3     https://www.instagram.com/p/CWDophIN18s/    11  \n",
       "4     https://www.instagram.com/p/CWBTfdnISbq/    11  \n",
       "...                                        ...   ...  \n",
       "2706  https://www.instagram.com/p/BDN9F0TFF9k/    03  \n",
       "2707  https://www.instagram.com/p/BDN8_EPlF9S/    03  \n",
       "2708  https://www.instagram.com/p/BDN84-lFF9C/    03  \n",
       "2709  https://www.instagram.com/p/BDN7TsklF47/    03  \n",
       "2710  https://www.instagram.com/p/BDN21QRFF_D/    03  \n",
       "\n",
       "[2711 rows x 6 columns]"
      ]
     },
     "execution_count": 8,
     "metadata": {},
     "output_type": "execute_result"
    }
   ],
   "source": [
    "data"
   ]
  },
  {
   "cell_type": "markdown",
   "id": "1fab0700",
   "metadata": {},
   "source": [
    "Таким образом, мы создали новый столбец с месяцами в датафрейме\n"
   ]
  },
  {
   "cell_type": "code",
   "execution_count": 7,
   "id": "6f28d6c4",
   "metadata": {},
   "outputs": [
    {
     "data": {
      "text/plain": [
       "month\n",
       "01    346490\n",
       "02    274007\n",
       "03    489115\n",
       "04    507057\n",
       "05    706947\n",
       "06    559480\n",
       "07    685461\n",
       "08    619522\n",
       "09    603963\n",
       "10    645464\n",
       "11    242639\n",
       "12    184950\n",
       "Name: likes, dtype: int64"
      ]
     },
     "execution_count": 7,
     "metadata": {},
     "output_type": "execute_result"
    }
   ],
   "source": [
    "sum_likes = data.groupby(\"month\")['likes'].apply(lambda x: x.sum())\n",
    "sum_likes"
   ]
  },
  {
   "cell_type": "code",
   "execution_count": 8,
   "id": "42b932d5",
   "metadata": {},
   "outputs": [
    {
     "data": {
      "text/plain": [
       "[<matplotlib.lines.Line2D at 0x20e08ab5880>]"
      ]
     },
     "execution_count": 8,
     "metadata": {},
     "output_type": "execute_result"
    },
    {
     "data": {
      "image/png": "[encoded data removed]",
      "text/plain": [
       "<Figure size 432x288 with 1 Axes>"
      ]
     },
     "metadata": {
      "needs_background": "light"
     },
     "output_type": "display_data"
    }
   ],
   "source": [
    "plt.plot(sum_likes)"
   ]
  },
  {
   "cell_type": "markdown",
   "id": "a2426e02",
   "metadata": {},
   "source": [
    "Так можно видеть, какое количество лайков было в каждом месяце. Оно сильно просело в ноябре и декабре"
   ]
  },
  {
   "cell_type": "markdown",
   "id": "5503b1b1",
   "metadata": {},
   "source": [
    "### Задание\n",
    "Постройте линейный график зависимости комментариев от года"
   ]
  },
  {
   "cell_type": "code",
   "execution_count": 11,
   "id": "68ec15b9",
   "metadata": {},
   "outputs": [
    {
     "data": {
      "text/plain": [
       "year\n",
       "2016        43\n",
       "2017       197\n",
       "2018     17049\n",
       "2019     42108\n",
       "2020     78974\n",
       "2021    217417\n",
       "Name: comments, dtype: int64"
      ]
     },
     "execution_count": 11,
     "metadata": {},
     "output_type": "execute_result"
    },
    {
     "data": {
      "image/png": "[encoded data removed]",
      "text/plain": [
       "<Figure size 432x288 with 1 Axes>"
      ]
     },
     "metadata": {
      "needs_background": "light"
     },
     "output_type": "display_data"
    }
   ],
   "source": [
    "data['year']=data.date.str[6:10]\n",
    "sum_comments = data.groupby(\"year\")['comments'].apply(lambda x: x.sum())\n",
    "\n",
    "plt.plot(sum_comments)\n",
    "sum_comments"
   ]
  },
  {
   "cell_type": "markdown",
   "id": "c05a19c2",
   "metadata": {},
   "source": [
    "Давайте посмотрим, как можно преобразовывать график \n"
   ]
  },
  {
   "cell_type": "code",
   "execution_count": 10,
   "id": "725085cf",
   "metadata": {},
   "outputs": [
    {
     "data": {
      "image/png": "[encoded data removed]",
      "text/plain": [
       "<Figure size 432x288 with 1 Axes>"
      ]
     },
     "metadata": {
      "needs_background": "light"
     },
     "output_type": "display_data"
    }
   ],
   "source": [
    "#меняем цвет и добавляем точки на изгибах, уже выглядит гораздо лучше\n",
    "plt.plot(sum_likes, color = 'black', marker = 'o')\n",
    "plt.title('Likes per month') #добавление заголовка\n",
    "_ = plt.xlabel('months') #название оси икс\n",
    "_ = plt.ylabel('likes') #название оси икс\n",
    "\n",
    "# _ = ... – matplotlib выводит график и возвращает сообщение о построении графика,\n",
    "# чтобы оно не появлялось, можно сохранить сообщение в дамми-переменную _"
   ]
  },
  {
   "cell_type": "markdown",
   "id": "debf0327",
   "metadata": {},
   "source": [
    "Markes на избигах могут быть любыми: '+', ',' и тд. Можно посмотреть в [документации](https://matplotlib.org/stable/api/_as_gen/matplotlib.pyplot.plot.html), так же как и цвета и вообще все... \n",
    "[Список маркеров](https://matplotlib.org/stable/api/markers_api.html#module-matplotlib.markers)"
   ]
  },
  {
   "cell_type": "markdown",
   "id": "a1c885cd",
   "metadata": {},
   "source": [
    "Также линию на графике тоже можно делать разной. Например:"
   ]
  },
  {
   "cell_type": "code",
   "execution_count": 13,
   "id": "4539e519",
   "metadata": {},
   "outputs": [
    {
     "data": {
      "image/png": "[encoded data removed]",
      "text/plain": [
       "<Figure size 432x288 with 1 Axes>"
      ]
     },
     "metadata": {
      "needs_background": "light"
     },
     "output_type": "display_data"
    }
   ],
   "source": [
    "plt.plot(sum_likes, color = 'black', marker = 'o', linestyle='dashed', linewidth=1, markersize=10)\n",
    "plt.title('Likes per month') \n",
    "_ = plt.xlabel('months') #название оси икс\n",
    "_ = plt.ylabel('likes') #название оси икс\n",
    "plt.grid() #можно добавить решетку на фон"
   ]
  },
  {
   "cell_type": "markdown",
   "id": "797ee6d1",
   "metadata": {},
   "source": [
    "Мы сделали пунктирную линию, изменили ее размер и размер маркеров. Мы посмотрели на основные методы работы с линейным графиком, в [документации](https://matplotlib.org/stable/api/_as_gen/matplotlib.pyplot.plot.html) можно посмотреть примеры более сложных графиков"
   ]
  },
  {
   "cell_type": "markdown",
   "id": "f61cc5db",
   "metadata": {},
   "source": [
    "Далее посмотрим на диаграмму рассеяния. В отличие от линейного графика, здесь обязательно нужно задавать обе оси: x и y, поэтому в качестве оси x были вставлены значения месяцев. Как можно видеть, графиик рассеяния напоминает линейный без линии))"
   ]
  },
  {
   "cell_type": "code",
   "execution_count": 12,
   "id": "33a69c04",
   "metadata": {},
   "outputs": [],
   "source": [
    "#так как дальше нужно будет задавать обе переменные:x и y, создам array, чтобы был порядок\n",
    "import numpy as np\n",
    "months = np.array(['01', '02', '03', '04', '05', '06', '07', '08', '09', '10', '11', '12'], dtype=object)"
   ]
  },
  {
   "cell_type": "code",
   "execution_count": 14,
   "id": "c16ac6cd",
   "metadata": {},
   "outputs": [
    {
     "data": {
      "image/png": "[encoded data removed]",
      "text/plain": [
       "<Figure size 432x288 with 1 Axes>"
      ]
     },
     "metadata": {
      "needs_background": "light"
     },
     "output_type": "display_data"
    }
   ],
   "source": [
    "plt.scatter(months, sum_likes, color = 'black', marker = 'D', linewidths=1) #первая перменная - х, вторая  - у\n",
    "plt.title('Likes per month')\n",
    "_ = plt.xlabel('months')\n",
    "_ = plt.ylabel('likes')"
   ]
  },
  {
   "cell_type": "markdown",
   "id": "a770744d",
   "metadata": {},
   "source": [
    "Здесь также можно менять маркеры и цвета. Подробнее про scatterplot в [документации](https://matplotlib.org/stable/api/_as_gen/matplotlib.pyplot.scatter.html)"
   ]
  },
  {
   "cell_type": "code",
   "execution_count": 15,
   "id": "450dfc8c",
   "metadata": {},
   "outputs": [
    {
     "data": {
      "image/png": "[encoded data removed]",
      "text/plain": [
       "<Figure size 432x288 with 1 Axes>"
      ]
     },
     "metadata": {
      "needs_background": "light"
     },
     "output_type": "display_data"
    }
   ],
   "source": [
    "_ = plt.bar(months, sum_likes, color = 'black', )\n",
    "plt.title('Likes per month')\n",
    "_ = plt.xlabel('months')\n",
    "_ = plt.ylabel('likes')"
   ]
  },
  {
   "cell_type": "markdown",
   "id": "8239cc0e",
   "metadata": {},
   "source": [
    "### Seaborn"
   ]
  },
  {
   "cell_type": "code",
   "execution_count": 16,
   "id": "408ec06b",
   "metadata": {},
   "outputs": [],
   "source": [
    "import seaborn as sns"
   ]
  },
  {
   "cell_type": "markdown",
   "id": "a613697e",
   "metadata": {},
   "source": [
    "Начнем с построения боксплотов\n",
    "\n",
    "Интерпретация:"
   ]
  },
  {
   "cell_type": "markdown",
   "id": "f50d1473",
   "metadata": {},
   "source": [
    "<center>\n",
    "<img src=\"https://github.com/hse-econ-data-science/dap_2021_spring/blob/main/sem10_visual/images/boxplot.png?raw=true\" height=\"400\" width=\"700\">\n",
    "</center>"
   ]
  },
  {
   "cell_type": "code",
   "execution_count": 17,
   "id": "b5e0bbd1",
   "metadata": {},
   "outputs": [
    {
     "name": "stderr",
     "output_type": "stream",
     "text": [
      "C:\\Users\\krasm\\anaconda3\\lib\\site-packages\\seaborn\\_decorators.py:36: FutureWarning: Pass the following variable as a keyword arg: x. From version 0.12, the only valid positional argument will be `data`, and passing other arguments without an explicit keyword will result in an error or misinterpretation.\n",
      "  warnings.warn(\n"
     ]
    },
    {
     "data": {
      "image/png": "[encoded data removed]",
      "text/plain": [
       "<Figure size 432x288 with 1 Axes>"
      ]
     },
     "metadata": {
      "needs_background": "light"
     },
     "output_type": "display_data"
    }
   ],
   "source": [
    "_ = sns.boxplot(sum_likes, color = 'pink')"
   ]
  },
  {
   "cell_type": "markdown",
   "id": "a9708c42",
   "metadata": {},
   "source": [
    "Построим боксплоты по лайкам в зависимотсти от месяца:"
   ]
  },
  {
   "cell_type": "code",
   "execution_count": 18,
   "id": "105b1dc2",
   "metadata": {},
   "outputs": [
    {
     "name": "stderr",
     "output_type": "stream",
     "text": [
      "C:\\Users\\krasm\\anaconda3\\lib\\site-packages\\seaborn\\_decorators.py:36: FutureWarning: Pass the following variables as keyword args: x, y. From version 0.12, the only valid positional argument will be `data`, and passing other arguments without an explicit keyword will result in an error or misinterpretation.\n",
      "  warnings.warn(\n"
     ]
    },
    {
     "data": {
      "image/png": "[encoded data removed]",
      "text/plain": [
       "<Figure size 432x288 with 1 Axes>"
      ]
     },
     "metadata": {
      "needs_background": "light"
     },
     "output_type": "display_data"
    }
   ],
   "source": [
    "_ = sns.boxplot('month', 'likes', data = data)\n",
    "_ = plt.title('Likes per month')\n",
    "\n",
    "# Boxplot: \n",
    "# центральная линия = медиана\n",
    "# края \"ящика\" = 1-ый и 3-ий квантили (25% и 75% перцентили выборки)\n",
    "# усы = 1.5 * (Q3 - Q1)\n",
    "# точки = выбросы"
   ]
  },
  {
   "cell_type": "markdown",
   "id": "32de6d08",
   "metadata": {},
   "source": [
    "Далее перейдем к построению bar plots"
   ]
  },
  {
   "cell_type": "markdown",
   "id": "731a7713",
   "metadata": {},
   "source": [
    "`barplot` аггрегирует данные по значениям категориальной переменной и применяет определенную функцию к значениям соответствующих групп количественной переменной. По умолчанию это функция **среднее**, однако эту функцию можно изменить в параметре `estimator`"
   ]
  },
  {
   "cell_type": "code",
   "execution_count": 63,
   "id": "98efc031",
   "metadata": {},
   "outputs": [
    {
     "ename": "ValueError",
     "evalue": "Could not interpret input 'month'",
     "output_type": "error",
     "traceback": [
      "\u001b[1;31m---------------------------------------------------------------------------\u001b[0m",
      "\u001b[1;31mValueError\u001b[0m                                Traceback (most recent call last)",
      "\u001b[1;32m~\\AppData\\Local\\Temp/ipykernel_9096/2021583373.py\u001b[0m in \u001b[0;36m<module>\u001b[1;34m\u001b[0m\n\u001b[1;32m----> 1\u001b[1;33m \u001b[0m_\u001b[0m \u001b[1;33m=\u001b[0m \u001b[0msns\u001b[0m\u001b[1;33m.\u001b[0m\u001b[0mbarplot\u001b[0m\u001b[1;33m(\u001b[0m\u001b[0mx\u001b[0m \u001b[1;33m=\u001b[0m \u001b[1;34m'month'\u001b[0m\u001b[1;33m,\u001b[0m \u001b[0my\u001b[0m \u001b[1;33m=\u001b[0m \u001b[1;34m'likes'\u001b[0m\u001b[1;33m,\u001b[0m \u001b[0mdata\u001b[0m \u001b[1;33m=\u001b[0m \u001b[0mtips\u001b[0m\u001b[1;33m)\u001b[0m\u001b[1;33m\u001b[0m\u001b[1;33m\u001b[0m\u001b[0m\n\u001b[0m\u001b[0;32m      2\u001b[0m \u001b[0m_\u001b[0m \u001b[1;33m=\u001b[0m \u001b[0mplt\u001b[0m\u001b[1;33m.\u001b[0m\u001b[0mtitle\u001b[0m\u001b[1;33m(\u001b[0m\u001b[1;34m'Average amount of likes per month'\u001b[0m\u001b[1;33m)\u001b[0m\u001b[1;33m\u001b[0m\u001b[1;33m\u001b[0m\u001b[0m\n",
      "\u001b[1;32m~\\anaconda3\\lib\\site-packages\\seaborn\\_decorators.py\u001b[0m in \u001b[0;36minner_f\u001b[1;34m(*args, **kwargs)\u001b[0m\n\u001b[0;32m     44\u001b[0m             )\n\u001b[0;32m     45\u001b[0m         \u001b[0mkwargs\u001b[0m\u001b[1;33m.\u001b[0m\u001b[0mupdate\u001b[0m\u001b[1;33m(\u001b[0m\u001b[1;33m{\u001b[0m\u001b[0mk\u001b[0m\u001b[1;33m:\u001b[0m \u001b[0marg\u001b[0m \u001b[1;32mfor\u001b[0m \u001b[0mk\u001b[0m\u001b[1;33m,\u001b[0m \u001b[0marg\u001b[0m \u001b[1;32min\u001b[0m \u001b[0mzip\u001b[0m\u001b[1;33m(\u001b[0m\u001b[0msig\u001b[0m\u001b[1;33m.\u001b[0m\u001b[0mparameters\u001b[0m\u001b[1;33m,\u001b[0m \u001b[0margs\u001b[0m\u001b[1;33m)\u001b[0m\u001b[1;33m}\u001b[0m\u001b[1;33m)\u001b[0m\u001b[1;33m\u001b[0m\u001b[1;33m\u001b[0m\u001b[0m\n\u001b[1;32m---> 46\u001b[1;33m         \u001b[1;32mreturn\u001b[0m \u001b[0mf\u001b[0m\u001b[1;33m(\u001b[0m\u001b[1;33m**\u001b[0m\u001b[0mkwargs\u001b[0m\u001b[1;33m)\u001b[0m\u001b[1;33m\u001b[0m\u001b[1;33m\u001b[0m\u001b[0m\n\u001b[0m\u001b[0;32m     47\u001b[0m     \u001b[1;32mreturn\u001b[0m \u001b[0minner_f\u001b[0m\u001b[1;33m\u001b[0m\u001b[1;33m\u001b[0m\u001b[0m\n\u001b[0;32m     48\u001b[0m \u001b[1;33m\u001b[0m\u001b[0m\n",
      "\u001b[1;32m~\\anaconda3\\lib\\site-packages\\seaborn\\categorical.py\u001b[0m in \u001b[0;36mbarplot\u001b[1;34m(x, y, hue, data, order, hue_order, estimator, ci, n_boot, units, seed, orient, color, palette, saturation, errcolor, errwidth, capsize, dodge, ax, **kwargs)\u001b[0m\n\u001b[0;32m   3180\u001b[0m ):\n\u001b[0;32m   3181\u001b[0m \u001b[1;33m\u001b[0m\u001b[0m\n\u001b[1;32m-> 3182\u001b[1;33m     plotter = _BarPlotter(x, y, hue, data, order, hue_order,\n\u001b[0m\u001b[0;32m   3183\u001b[0m                           \u001b[0mestimator\u001b[0m\u001b[1;33m,\u001b[0m \u001b[0mci\u001b[0m\u001b[1;33m,\u001b[0m \u001b[0mn_boot\u001b[0m\u001b[1;33m,\u001b[0m \u001b[0munits\u001b[0m\u001b[1;33m,\u001b[0m \u001b[0mseed\u001b[0m\u001b[1;33m,\u001b[0m\u001b[1;33m\u001b[0m\u001b[1;33m\u001b[0m\u001b[0m\n\u001b[0;32m   3184\u001b[0m                           \u001b[0morient\u001b[0m\u001b[1;33m,\u001b[0m \u001b[0mcolor\u001b[0m\u001b[1;33m,\u001b[0m \u001b[0mpalette\u001b[0m\u001b[1;33m,\u001b[0m \u001b[0msaturation\u001b[0m\u001b[1;33m,\u001b[0m\u001b[1;33m\u001b[0m\u001b[1;33m\u001b[0m\u001b[0m\n",
      "\u001b[1;32m~\\anaconda3\\lib\\site-packages\\seaborn\\categorical.py\u001b[0m in \u001b[0;36m__init__\u001b[1;34m(self, x, y, hue, data, order, hue_order, estimator, ci, n_boot, units, seed, orient, color, palette, saturation, errcolor, errwidth, capsize, dodge)\u001b[0m\n\u001b[0;32m   1582\u001b[0m                  errwidth, capsize, dodge):\n\u001b[0;32m   1583\u001b[0m         \u001b[1;34m\"\"\"Initialize the plotter.\"\"\"\u001b[0m\u001b[1;33m\u001b[0m\u001b[1;33m\u001b[0m\u001b[0m\n\u001b[1;32m-> 1584\u001b[1;33m         self.establish_variables(x, y, hue, data, orient,\n\u001b[0m\u001b[0;32m   1585\u001b[0m                                  order, hue_order, units)\n\u001b[0;32m   1586\u001b[0m         \u001b[0mself\u001b[0m\u001b[1;33m.\u001b[0m\u001b[0mestablish_colors\u001b[0m\u001b[1;33m(\u001b[0m\u001b[0mcolor\u001b[0m\u001b[1;33m,\u001b[0m \u001b[0mpalette\u001b[0m\u001b[1;33m,\u001b[0m \u001b[0msaturation\u001b[0m\u001b[1;33m)\u001b[0m\u001b[1;33m\u001b[0m\u001b[1;33m\u001b[0m\u001b[0m\n",
      "\u001b[1;32m~\\anaconda3\\lib\\site-packages\\seaborn\\categorical.py\u001b[0m in \u001b[0;36mestablish_variables\u001b[1;34m(self, x, y, hue, data, orient, order, hue_order, units)\u001b[0m\n\u001b[0;32m    151\u001b[0m                 \u001b[1;32mif\u001b[0m \u001b[0misinstance\u001b[0m\u001b[1;33m(\u001b[0m\u001b[0mvar\u001b[0m\u001b[1;33m,\u001b[0m \u001b[0mstr\u001b[0m\u001b[1;33m)\u001b[0m\u001b[1;33m:\u001b[0m\u001b[1;33m\u001b[0m\u001b[1;33m\u001b[0m\u001b[0m\n\u001b[0;32m    152\u001b[0m                     \u001b[0merr\u001b[0m \u001b[1;33m=\u001b[0m \u001b[1;34m\"Could not interpret input '{}'\"\u001b[0m\u001b[1;33m.\u001b[0m\u001b[0mformat\u001b[0m\u001b[1;33m(\u001b[0m\u001b[0mvar\u001b[0m\u001b[1;33m)\u001b[0m\u001b[1;33m\u001b[0m\u001b[1;33m\u001b[0m\u001b[0m\n\u001b[1;32m--> 153\u001b[1;33m                     \u001b[1;32mraise\u001b[0m \u001b[0mValueError\u001b[0m\u001b[1;33m(\u001b[0m\u001b[0merr\u001b[0m\u001b[1;33m)\u001b[0m\u001b[1;33m\u001b[0m\u001b[1;33m\u001b[0m\u001b[0m\n\u001b[0m\u001b[0;32m    154\u001b[0m \u001b[1;33m\u001b[0m\u001b[0m\n\u001b[0;32m    155\u001b[0m             \u001b[1;31m# Figure out the plotting orientation\u001b[0m\u001b[1;33m\u001b[0m\u001b[1;33m\u001b[0m\u001b[0m\n",
      "\u001b[1;31mValueError\u001b[0m: Could not interpret input 'month'"
     ]
    }
   ],
   "source": [
    "_ = sns.barplot(x = 'month', y = 'likes', data = data)\n",
    "_ = plt.title('Average amount of likes per month')"
   ]
  },
  {
   "cell_type": "code",
   "execution_count": 60,
   "id": "65416f14",
   "metadata": {},
   "outputs": [
    {
     "data": {
      "image/png": "[encoded data removed]",
      "text/plain": [
       "<Figure size 432x288 with 1 Axes>"
      ]
     },
     "metadata": {
      "needs_background": "light"
     },
     "output_type": "display_data"
    }
   ],
   "source": [
    "_ = sns.barplot(x = 'month', y = 'likes', data = data, estimator = np.var)\n",
    "_ = plt.title('Dispersion of the distribution of likes per month')"
   ]
  },
  {
   "cell_type": "markdown",
   "id": "e56db56c",
   "metadata": {},
   "source": [
    "Далее перейдем к построению корреляционной heat map. На нашем датасете с лайками трудно отследить корреляцию, так как у нас только две переменных"
   ]
  },
  {
   "cell_type": "code",
   "execution_count": 57,
   "id": "d2080415",
   "metadata": {},
   "outputs": [
    {
     "data": {
      "text/plain": [
       "<AxesSubplot:>"
      ]
     },
     "execution_count": 57,
     "metadata": {},
     "output_type": "execute_result"
    },
    {
     "data": {
      "image/png": "[encoded data removed]",
      "text/plain": [
       "<Figure size 432x288 with 2 Axes>"
      ]
     },
     "metadata": {
      "needs_background": "light"
     },
     "output_type": "display_data"
    }
   ],
   "source": [
    "sns.heatmap(data.corr(), linecolor = 'white', linewidths = 1)"
   ]
  },
  {
   "cell_type": "markdown",
   "id": "819df7d2",
   "metadata": {},
   "source": [
    "Поэтому используем встроенный датасет о чаевых для этого"
   ]
  },
  {
   "cell_type": "code",
   "execution_count": 19,
   "id": "9fd5e9ae",
   "metadata": {},
   "outputs": [
    {
     "data": {
      "text/html": [
       "<div>\n",
       "<style scoped>\n",
       "    .dataframe tbody tr th:only-of-type {\n",
       "        vertical-align: middle;\n",
       "    }\n",
       "\n",
       "    .dataframe tbody tr th {\n",
       "        vertical-align: top;\n",
       "    }\n",
       "\n",
       "    .dataframe thead th {\n",
       "        text-align: right;\n",
       "    }\n",
       "</style>\n",
       "<table border=\"1\" class=\"dataframe\">\n",
       "  <thead>\n",
       "    <tr style=\"text-align: right;\">\n",
       "      <th></th>\n",
       "      <th>total_bill</th>\n",
       "      <th>tip</th>\n",
       "      <th>sex</th>\n",
       "      <th>smoker</th>\n",
       "      <th>day</th>\n",
       "      <th>time</th>\n",
       "      <th>size</th>\n",
       "    </tr>\n",
       "  </thead>\n",
       "  <tbody>\n",
       "    <tr>\n",
       "      <th>0</th>\n",
       "      <td>16.99</td>\n",
       "      <td>1.01</td>\n",
       "      <td>Female</td>\n",
       "      <td>No</td>\n",
       "      <td>Sun</td>\n",
       "      <td>Dinner</td>\n",
       "      <td>2</td>\n",
       "    </tr>\n",
       "    <tr>\n",
       "      <th>1</th>\n",
       "      <td>10.34</td>\n",
       "      <td>1.66</td>\n",
       "      <td>Male</td>\n",
       "      <td>No</td>\n",
       "      <td>Sun</td>\n",
       "      <td>Dinner</td>\n",
       "      <td>3</td>\n",
       "    </tr>\n",
       "    <tr>\n",
       "      <th>2</th>\n",
       "      <td>21.01</td>\n",
       "      <td>3.50</td>\n",
       "      <td>Male</td>\n",
       "      <td>No</td>\n",
       "      <td>Sun</td>\n",
       "      <td>Dinner</td>\n",
       "      <td>3</td>\n",
       "    </tr>\n",
       "    <tr>\n",
       "      <th>3</th>\n",
       "      <td>23.68</td>\n",
       "      <td>3.31</td>\n",
       "      <td>Male</td>\n",
       "      <td>No</td>\n",
       "      <td>Sun</td>\n",
       "      <td>Dinner</td>\n",
       "      <td>2</td>\n",
       "    </tr>\n",
       "    <tr>\n",
       "      <th>4</th>\n",
       "      <td>24.59</td>\n",
       "      <td>3.61</td>\n",
       "      <td>Female</td>\n",
       "      <td>No</td>\n",
       "      <td>Sun</td>\n",
       "      <td>Dinner</td>\n",
       "      <td>4</td>\n",
       "    </tr>\n",
       "  </tbody>\n",
       "</table>\n",
       "</div>"
      ],
      "text/plain": [
       "   total_bill   tip     sex smoker  day    time  size\n",
       "0       16.99  1.01  Female     No  Sun  Dinner     2\n",
       "1       10.34  1.66    Male     No  Sun  Dinner     3\n",
       "2       21.01  3.50    Male     No  Sun  Dinner     3\n",
       "3       23.68  3.31    Male     No  Sun  Dinner     2\n",
       "4       24.59  3.61  Female     No  Sun  Dinner     4"
      ]
     },
     "execution_count": 19,
     "metadata": {},
     "output_type": "execute_result"
    }
   ],
   "source": [
    "tips = sns.load_dataset('tips')\n",
    "tips.head()"
   ]
  },
  {
   "cell_type": "code",
   "execution_count": 53,
   "id": "a8856d53",
   "metadata": {},
   "outputs": [
    {
     "data": {
      "image/png": "[encoded data removed]",
      "text/plain": [
       "<Figure size 432x288 with 2 Axes>"
      ]
     },
     "metadata": {
      "needs_background": "light"
     },
     "output_type": "display_data"
    }
   ],
   "source": [
    "_ = sns.heatmap(tips.corr(), linecolor = 'white', linewidths = 1)"
   ]
  },
  {
   "cell_type": "code",
   "execution_count": 54,
   "id": "5368fc92",
   "metadata": {},
   "outputs": [
    {
     "data": {
      "image/png": "[encoded data removed]",
      "text/plain": [
       "<Figure size 432x288 with 2 Axes>"
      ]
     },
     "metadata": {
      "needs_background": "light"
     },
     "output_type": "display_data"
    }
   ],
   "source": [
    "_ = sns.heatmap(tips.corr(),  linecolor = 'white', linewidths = 1, annot = True) #добавили значения корреляций"
   ]
  },
  {
   "cell_type": "markdown",
   "id": "8791cdf1",
   "metadata": {},
   "source": [
    "### Задания"
   ]
  },
  {
   "cell_type": "markdown",
   "id": "63429e68",
   "metadata": {},
   "source": [
    "1. Используя новый датасет (tips), просуммируйте итоговые суммы заказов по дням недели и постройте линейный график. Не забудьте добавить заголовок и названия осей"
   ]
  },
  {
   "cell_type": "code",
   "execution_count": 26,
   "id": "20112d43",
   "metadata": {},
   "outputs": [
    {
     "data": {
      "image/png": "[encoded data removed]",
      "text/plain": [
       "<Figure size 432x288 with 1 Axes>"
      ]
     },
     "metadata": {
      "needs_background": "light"
     },
     "output_type": "display_data"
    }
   ],
   "source": [
    "sum_bills = tips.groupby(\"day\")['total_bill'].apply(lambda x: x.sum())\n",
    "plt.plot(sum_bills)\n",
    "plt.plot(sum_bills, color = 'red', marker = 'o')\n",
    "plt.title('bills per day')\n",
    "_ = plt.xlabel('days')\n",
    "_ = plt.ylabel('bills sum')"
   ]
  },
  {
   "cell_type": "markdown",
   "id": "cc2f94ce",
   "metadata": {},
   "source": [
    "2. Предположите, кто оставил больше чаевых: мужчины или женщины? Постройте столбчатую диаграмму распределения, на которой будет видно, кто оставил больше чаевых **в целом**: женщины или мужчины"
   ]
  },
  {
   "cell_type": "code",
   "execution_count": 36,
   "id": "7555245d",
   "metadata": {},
   "outputs": [
    {
     "data": {
      "image/png": "[encoded data removed]",
      "text/plain": [
       "<Figure size 432x288 with 1 Axes>"
      ]
     },
     "metadata": {
      "needs_background": "light"
     },
     "output_type": "display_data"
    }
   ],
   "source": [
    "sex = ['Male', 'Female']\n",
    "\n",
    "sum_tips = tips.groupby(\"sex\")['tip'].apply(lambda x: x.sum())\n",
    "_ = plt.bar(sex, sum_tips, color = 'black', )\n",
    "plt.title('Tips per gender')\n",
    "_ = plt.xlabel('gender')\n",
    "_ = plt.ylabel('sum of tips')"
   ]
  },
  {
   "cell_type": "markdown",
   "id": "21fc8f0f",
   "metadata": {},
   "source": [
    "3. Используя датасет tips, сначала предположите, а затем покажите на графике за какой день недели в **в среднем** оставляют больше чаевых? Используйте barplot"
   ]
  },
  {
   "cell_type": "code",
   "execution_count": 69,
   "id": "4ebef87c",
   "metadata": {},
   "outputs": [
    {
     "data": {
      "image/png": "[encoded data removed]",
      "text/plain": [
       "<Figure size 432x288 with 1 Axes>"
      ]
     },
     "metadata": {
      "needs_background": "light"
     },
     "output_type": "display_data"
    }
   ],
   "source": [
    "_ = sns.barplot(x = 'day', y ='tip', data = tips)\n",
    "_ = plt.title('Average tips per day')"
   ]
  },
  {
   "cell_type": "markdown",
   "id": "e101bfd2",
   "metadata": {},
   "source": [
    ". Сделайте то же самое, что и в предыдущем пунте, используя boxplot. Что удобнее в интерпретации: barplot или boxplot?"
   ]
  },
  {
   "cell_type": "code",
   "execution_count": 76,
   "id": "d05004c4",
   "metadata": {},
   "outputs": [
    {
     "name": "stderr",
     "output_type": "stream",
     "text": [
      "C:\\Users\\krasm\\anaconda3\\lib\\site-packages\\seaborn\\_decorators.py:36: FutureWarning: Pass the following variables as keyword args: x, y. From version 0.12, the only valid positional argument will be `data`, and passing other arguments without an explicit keyword will result in an error or misinterpretation.\n",
      "  warnings.warn(\n"
     ]
    },
    {
     "data": {
      "image/png": "[encoded data removed]",
      "text/plain": [
       "<Figure size 432x288 with 1 Axes>"
      ]
     },
     "metadata": {
      "needs_background": "light"
     },
     "output_type": "display_data"
    }
   ],
   "source": [
    "_ = sns.boxplot('day', 'tip', data = tips)\n",
    "_ = plt.title('Tips per day')"
   ]
  },
  {
   "cell_type": "code",
   "execution_count": 73,
   "id": "c5db1709",
   "metadata": {},
   "outputs": [
    {
     "name": "stdout",
     "output_type": "stream",
     "text": [
      "hey\n"
     ]
    }
   ],
   "source": []
  },
  {
   "cell_type": "code",
   "execution_count": null,
   "id": "ed852e9f",
   "metadata": {},
   "outputs": [],
   "source": []
  }
 ],
 "metadata": {
  "kernelspec": {
   "display_name": "Python 3 (ipykernel)",
   "language": "python",
   "name": "python3"
  },
  "language_info": {
   "codemirror_mode": {
    "name": "ipython",
    "version": 3
   },
   "file_extension": ".py",
   "mimetype": "text/x-python",
   "name": "python",
   "nbconvert_exporter": "python",
   "pygments_lexer": "ipython3",
   "version": "3.9.7"
  },
  "toc": {
   "base_numbering": 1,
   "nav_menu": {},
   "number_sections": true,
   "sideBar": true,
   "skip_h1_title": false,
   "title_cell": "Table of Contents",
   "title_sidebar": "Contents",
   "toc_cell": false,
   "toc_position": {},
   "toc_section_display": true,
   "toc_window_display": false
  },
  "varInspector": {
   "cols": {
    "lenName": 16,
    "lenType": 16,
    "lenVar": 40
   },
   "kernels_config": {
    "python": {
     "delete_cmd_postfix": "",
     "delete_cmd_prefix": "del ",
     "library": "var_list.py",
     "varRefreshCmd": "print(var_dic_list())"
    },
    "r": {
     "delete_cmd_postfix": ") ",
     "delete_cmd_prefix": "rm(",
     "library": "var_list.r",
     "varRefreshCmd": "cat(var_dic_list()) "
    }
   },
   "types_to_exclude": [
    "module",
    "function",
    "builtin_function_or_method",
    "instance",
    "_Feature"
   ],
   "window_display": false
  }
 },
 "nbformat": 4,
 "nbformat_minor": 5
}
